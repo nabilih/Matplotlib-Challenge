{
 "cells": [
  {
   "cell_type": "markdown",
   "metadata": {},
   "source": [
    "## Observations and Insights"
   ]
  },
  {
   "cell_type": "markdown",
   "metadata": {},
   "source": [
    "1. The plot of final tumor volume across the four most effective regimens indicate that the mean tumor volume distribution is not\n",
    "a normal curve, and there are outliers which make the mean to be skewed. This means some drug regimens are not as effective in reducing the tumor size.\n",
    "\n",
    "2. Capomulin seems to be a strong regimen, and as we see in the plot for mouse S185, the drug regimen over time reduced the tumor volume significantly\n",
    "\n",
    "3. There is a high correlation (0.95) between the mouse weight and its average tumor size. The graph and linear regression indicate \n",
    "a strong positive correlation.\n"
   ]
  },
  {
   "cell_type": "markdown",
   "metadata": {},
   "source": [
    "## Dependencies and starter code"
   ]
  },
  {
   "cell_type": "code",
   "execution_count": 131,
   "metadata": {},
   "outputs": [
    {
     "data": {
      "text/html": [
       "<div>\n",
       "<style scoped>\n",
       "    .dataframe tbody tr th:only-of-type {\n",
       "        vertical-align: middle;\n",
       "    }\n",
       "\n",
       "    .dataframe tbody tr th {\n",
       "        vertical-align: top;\n",
       "    }\n",
       "\n",
       "    .dataframe thead th {\n",
       "        text-align: right;\n",
       "    }\n",
       "</style>\n",
       "<table border=\"1\" class=\"dataframe\">\n",
       "  <thead>\n",
       "    <tr style=\"text-align: right;\">\n",
       "      <th></th>\n",
       "      <th>Mouse ID</th>\n",
       "      <th>Drug Regimen</th>\n",
       "      <th>Sex</th>\n",
       "      <th>Age_months</th>\n",
       "      <th>Weight (g)</th>\n",
       "      <th>Timepoint</th>\n",
       "      <th>Tumor Volume (mm3)</th>\n",
       "      <th>Metastatic Sites</th>\n",
       "    </tr>\n",
       "  </thead>\n",
       "  <tbody>\n",
       "    <tr>\n",
       "      <td>0</td>\n",
       "      <td>k403</td>\n",
       "      <td>Ramicane</td>\n",
       "      <td>Male</td>\n",
       "      <td>21</td>\n",
       "      <td>16</td>\n",
       "      <td>0</td>\n",
       "      <td>45.000000</td>\n",
       "      <td>0</td>\n",
       "    </tr>\n",
       "    <tr>\n",
       "      <td>1</td>\n",
       "      <td>k403</td>\n",
       "      <td>Ramicane</td>\n",
       "      <td>Male</td>\n",
       "      <td>21</td>\n",
       "      <td>16</td>\n",
       "      <td>5</td>\n",
       "      <td>38.825898</td>\n",
       "      <td>0</td>\n",
       "    </tr>\n",
       "    <tr>\n",
       "      <td>2</td>\n",
       "      <td>k403</td>\n",
       "      <td>Ramicane</td>\n",
       "      <td>Male</td>\n",
       "      <td>21</td>\n",
       "      <td>16</td>\n",
       "      <td>10</td>\n",
       "      <td>35.014271</td>\n",
       "      <td>1</td>\n",
       "    </tr>\n",
       "    <tr>\n",
       "      <td>3</td>\n",
       "      <td>k403</td>\n",
       "      <td>Ramicane</td>\n",
       "      <td>Male</td>\n",
       "      <td>21</td>\n",
       "      <td>16</td>\n",
       "      <td>15</td>\n",
       "      <td>34.223992</td>\n",
       "      <td>1</td>\n",
       "    </tr>\n",
       "    <tr>\n",
       "      <td>4</td>\n",
       "      <td>k403</td>\n",
       "      <td>Ramicane</td>\n",
       "      <td>Male</td>\n",
       "      <td>21</td>\n",
       "      <td>16</td>\n",
       "      <td>20</td>\n",
       "      <td>32.997729</td>\n",
       "      <td>1</td>\n",
       "    </tr>\n",
       "    <tr>\n",
       "      <td>...</td>\n",
       "      <td>...</td>\n",
       "      <td>...</td>\n",
       "      <td>...</td>\n",
       "      <td>...</td>\n",
       "      <td>...</td>\n",
       "      <td>...</td>\n",
       "      <td>...</td>\n",
       "      <td>...</td>\n",
       "    </tr>\n",
       "    <tr>\n",
       "      <td>1888</td>\n",
       "      <td>z969</td>\n",
       "      <td>Naftisol</td>\n",
       "      <td>Male</td>\n",
       "      <td>9</td>\n",
       "      <td>30</td>\n",
       "      <td>25</td>\n",
       "      <td>63.145652</td>\n",
       "      <td>2</td>\n",
       "    </tr>\n",
       "    <tr>\n",
       "      <td>1889</td>\n",
       "      <td>z969</td>\n",
       "      <td>Naftisol</td>\n",
       "      <td>Male</td>\n",
       "      <td>9</td>\n",
       "      <td>30</td>\n",
       "      <td>30</td>\n",
       "      <td>65.841013</td>\n",
       "      <td>3</td>\n",
       "    </tr>\n",
       "    <tr>\n",
       "      <td>1890</td>\n",
       "      <td>z969</td>\n",
       "      <td>Naftisol</td>\n",
       "      <td>Male</td>\n",
       "      <td>9</td>\n",
       "      <td>30</td>\n",
       "      <td>35</td>\n",
       "      <td>69.176246</td>\n",
       "      <td>4</td>\n",
       "    </tr>\n",
       "    <tr>\n",
       "      <td>1891</td>\n",
       "      <td>z969</td>\n",
       "      <td>Naftisol</td>\n",
       "      <td>Male</td>\n",
       "      <td>9</td>\n",
       "      <td>30</td>\n",
       "      <td>40</td>\n",
       "      <td>70.314904</td>\n",
       "      <td>4</td>\n",
       "    </tr>\n",
       "    <tr>\n",
       "      <td>1892</td>\n",
       "      <td>z969</td>\n",
       "      <td>Naftisol</td>\n",
       "      <td>Male</td>\n",
       "      <td>9</td>\n",
       "      <td>30</td>\n",
       "      <td>45</td>\n",
       "      <td>73.867845</td>\n",
       "      <td>4</td>\n",
       "    </tr>\n",
       "  </tbody>\n",
       "</table>\n",
       "<p>1893 rows × 8 columns</p>\n",
       "</div>"
      ],
      "text/plain": [
       "     Mouse ID Drug Regimen   Sex  Age_months  Weight (g)  Timepoint  \\\n",
       "0        k403     Ramicane  Male          21          16          0   \n",
       "1        k403     Ramicane  Male          21          16          5   \n",
       "2        k403     Ramicane  Male          21          16         10   \n",
       "3        k403     Ramicane  Male          21          16         15   \n",
       "4        k403     Ramicane  Male          21          16         20   \n",
       "...       ...          ...   ...         ...         ...        ...   \n",
       "1888     z969     Naftisol  Male           9          30         25   \n",
       "1889     z969     Naftisol  Male           9          30         30   \n",
       "1890     z969     Naftisol  Male           9          30         35   \n",
       "1891     z969     Naftisol  Male           9          30         40   \n",
       "1892     z969     Naftisol  Male           9          30         45   \n",
       "\n",
       "      Tumor Volume (mm3)  Metastatic Sites  \n",
       "0              45.000000                 0  \n",
       "1              38.825898                 0  \n",
       "2              35.014271                 1  \n",
       "3              34.223992                 1  \n",
       "4              32.997729                 1  \n",
       "...                  ...               ...  \n",
       "1888           63.145652                 2  \n",
       "1889           65.841013                 3  \n",
       "1890           69.176246                 4  \n",
       "1891           70.314904                 4  \n",
       "1892           73.867845                 4  \n",
       "\n",
       "[1893 rows x 8 columns]"
      ]
     },
     "execution_count": 131,
     "metadata": {},
     "output_type": "execute_result"
    }
   ],
   "source": [
    "# Dependencies and Setup\n",
    "import matplotlib.pyplot as plt\n",
    "import pandas as pd\n",
    "import scipy.stats as st\n",
    "import numpy as np\n",
    "from scipy.stats import sem\n",
    "from scipy.stats import linregress\n",
    "\n",
    "# Study data files\n",
    "mouse_metadata = \"data/Mouse_metadata.csv\"\n",
    "study_results = \"data/Study_results.csv\"\n",
    "\n",
    "# Read the mouse data and the study results\n",
    "mouse_metadata = pd.read_csv(mouse_metadata)\n",
    "study_results = pd.read_csv(study_results)\n",
    "\n",
    "# Combine the data into a single dataset\n",
    "joined_data = mouse_metadata.merge(study_results, on='Mouse ID')\n",
    "joined_data"
   ]
  },
  {
   "cell_type": "markdown",
   "metadata": {},
   "source": [
    "## Summary statistics"
   ]
  },
  {
   "cell_type": "code",
   "execution_count": 132,
   "metadata": {},
   "outputs": [
    {
     "data": {
      "text/html": [
       "<div>\n",
       "<style scoped>\n",
       "    .dataframe tbody tr th:only-of-type {\n",
       "        vertical-align: middle;\n",
       "    }\n",
       "\n",
       "    .dataframe tbody tr th {\n",
       "        vertical-align: top;\n",
       "    }\n",
       "\n",
       "    .dataframe thead th {\n",
       "        text-align: right;\n",
       "    }\n",
       "</style>\n",
       "<table border=\"1\" class=\"dataframe\">\n",
       "  <thead>\n",
       "    <tr style=\"text-align: right;\">\n",
       "      <th></th>\n",
       "      <th>Tumor Volumn Mean</th>\n",
       "      <th>Tumor Volume Median</th>\n",
       "      <th>Variance</th>\n",
       "      <th>Standard Dev</th>\n",
       "      <th>SEM</th>\n",
       "    </tr>\n",
       "    <tr>\n",
       "      <th>Drug Regimen</th>\n",
       "      <th></th>\n",
       "      <th></th>\n",
       "      <th></th>\n",
       "      <th></th>\n",
       "      <th></th>\n",
       "    </tr>\n",
       "  </thead>\n",
       "  <tbody>\n",
       "    <tr>\n",
       "      <td>Capomulin</td>\n",
       "      <td>40.675741</td>\n",
       "      <td>41.557809</td>\n",
       "      <td>24.947764</td>\n",
       "      <td>4.994774</td>\n",
       "      <td>0.329346</td>\n",
       "    </tr>\n",
       "    <tr>\n",
       "      <td>Ceftamin</td>\n",
       "      <td>52.591172</td>\n",
       "      <td>51.776157</td>\n",
       "      <td>39.290177</td>\n",
       "      <td>6.268188</td>\n",
       "      <td>0.469821</td>\n",
       "    </tr>\n",
       "    <tr>\n",
       "      <td>Infubinol</td>\n",
       "      <td>52.884795</td>\n",
       "      <td>51.820584</td>\n",
       "      <td>43.128684</td>\n",
       "      <td>6.567243</td>\n",
       "      <td>0.492236</td>\n",
       "    </tr>\n",
       "    <tr>\n",
       "      <td>Ketapril</td>\n",
       "      <td>55.235638</td>\n",
       "      <td>53.698743</td>\n",
       "      <td>68.553577</td>\n",
       "      <td>8.279709</td>\n",
       "      <td>0.603860</td>\n",
       "    </tr>\n",
       "    <tr>\n",
       "      <td>Naftisol</td>\n",
       "      <td>54.331565</td>\n",
       "      <td>52.509285</td>\n",
       "      <td>66.173479</td>\n",
       "      <td>8.134708</td>\n",
       "      <td>0.596466</td>\n",
       "    </tr>\n",
       "    <tr>\n",
       "      <td>Placebo</td>\n",
       "      <td>54.033581</td>\n",
       "      <td>52.288934</td>\n",
       "      <td>61.168083</td>\n",
       "      <td>7.821003</td>\n",
       "      <td>0.581331</td>\n",
       "    </tr>\n",
       "    <tr>\n",
       "      <td>Propriva</td>\n",
       "      <td>52.322552</td>\n",
       "      <td>50.854632</td>\n",
       "      <td>42.351070</td>\n",
       "      <td>6.507770</td>\n",
       "      <td>0.512884</td>\n",
       "    </tr>\n",
       "    <tr>\n",
       "      <td>Ramicane</td>\n",
       "      <td>40.216745</td>\n",
       "      <td>40.673236</td>\n",
       "      <td>23.486704</td>\n",
       "      <td>4.846308</td>\n",
       "      <td>0.320955</td>\n",
       "    </tr>\n",
       "    <tr>\n",
       "      <td>Stelasyn</td>\n",
       "      <td>54.233149</td>\n",
       "      <td>52.431737</td>\n",
       "      <td>59.450562</td>\n",
       "      <td>7.710419</td>\n",
       "      <td>0.573111</td>\n",
       "    </tr>\n",
       "    <tr>\n",
       "      <td>Zoniferol</td>\n",
       "      <td>53.236507</td>\n",
       "      <td>51.818479</td>\n",
       "      <td>48.533355</td>\n",
       "      <td>6.966589</td>\n",
       "      <td>0.516398</td>\n",
       "    </tr>\n",
       "  </tbody>\n",
       "</table>\n",
       "</div>"
      ],
      "text/plain": [
       "              Tumor Volumn Mean  Tumor Volume Median   Variance  Standard Dev  \\\n",
       "Drug Regimen                                                                    \n",
       "Capomulin             40.675741            41.557809  24.947764      4.994774   \n",
       "Ceftamin              52.591172            51.776157  39.290177      6.268188   \n",
       "Infubinol             52.884795            51.820584  43.128684      6.567243   \n",
       "Ketapril              55.235638            53.698743  68.553577      8.279709   \n",
       "Naftisol              54.331565            52.509285  66.173479      8.134708   \n",
       "Placebo               54.033581            52.288934  61.168083      7.821003   \n",
       "Propriva              52.322552            50.854632  42.351070      6.507770   \n",
       "Ramicane              40.216745            40.673236  23.486704      4.846308   \n",
       "Stelasyn              54.233149            52.431737  59.450562      7.710419   \n",
       "Zoniferol             53.236507            51.818479  48.533355      6.966589   \n",
       "\n",
       "                   SEM  \n",
       "Drug Regimen            \n",
       "Capomulin     0.329346  \n",
       "Ceftamin      0.469821  \n",
       "Infubinol     0.492236  \n",
       "Ketapril      0.603860  \n",
       "Naftisol      0.596466  \n",
       "Placebo       0.581331  \n",
       "Propriva      0.512884  \n",
       "Ramicane      0.320955  \n",
       "Stelasyn      0.573111  \n",
       "Zoniferol     0.516398  "
      ]
     },
     "execution_count": 132,
     "metadata": {},
     "output_type": "execute_result"
    }
   ],
   "source": [
    "# Generate a summary statistics table of mean, median, variance, standard deviation, \n",
    "# and SEM of the tumor volume for each regimen\n",
    "\n",
    "#group data by regimen\n",
    "joined_data_grouped = joined_data.groupby(['Drug Regimen'])\n",
    "\n",
    "#calculate mean, median, variance, std dev, and SEM of the Tumor volume for each regimen\n",
    "mean_df = joined_data_grouped['Tumor Volume (mm3)'].mean()\n",
    "median_df = joined_data_grouped['Tumor Volume (mm3)'].median()\n",
    "variance_df = joined_data_grouped['Tumor Volume (mm3)'].var()\n",
    "std_dev_df = joined_data_grouped['Tumor Volume (mm3)'].std()\n",
    "std_error_df = joined_data_grouped['Tumor Volume (mm3)'].sem()\n",
    "\n",
    "#create a new dataframe and concatenate the calculated values\n",
    "summary_stat = pd.concat([mean_df, median_df, variance_df, std_dev_df, std_error_df], axis=1)\n",
    "#Add column headings\n",
    "summary_stat.columns = ['Tumor Volumn Mean', 'Tumor Volume Median', 'Variance', 'Standard Dev', 'SEM']\n",
    "\n",
    "#display results\n",
    "summary_stat"
   ]
  },
  {
   "cell_type": "markdown",
   "metadata": {},
   "source": [
    "## Bar plots"
   ]
  },
  {
   "cell_type": "code",
   "execution_count": 133,
   "metadata": {},
   "outputs": [
    {
     "data": {
      "text/plain": [
       "Text(0, 0.5, 'No. of data points')"
      ]
     },
     "execution_count": 133,
     "metadata": {},
     "output_type": "execute_result"
    },
    {
     "data": {
      "image/png": "[encoded data removed]",
      "text/plain": [
       "<Figure size 432x288 with 1 Axes>"
      ]
     },
     "metadata": {
      "needs_background": "light"
     },
     "output_type": "display_data"
    }
   ],
   "source": [
    "# Generate a bar plot showing number of data points for each treatment regimen using pandas\n",
    "\n",
    "#calculate the number of records for each drug regimen\n",
    "Regimen_df = joined_data['Drug Regimen'].value_counts()\n",
    "\n",
    "#create a bar plot\n",
    "plot = Regimen_df.plot(kind=\"bar\", title = \"Number of data points for each treatment\")\n",
    "\n",
    "#assign labels\n",
    "plot.set_xlabel(\"Drug Regimen\")\n",
    "plot.set_ylabel(\"No. of data points\")\n"
   ]
  },
  {
   "cell_type": "code",
   "execution_count": 134,
   "metadata": {},
   "outputs": [
    {
     "data": {
      "image/png": "[encoded data removed]",
      "text/plain": [
       "<Figure size 432x288 with 1 Axes>"
      ]
     },
     "metadata": {
      "needs_background": "light"
     },
     "output_type": "display_data"
    }
   ],
   "source": [
    " # Generate a bar plot showing number of data points for each treatment regimen using pyplot\n",
    "\n",
    "# use the previous datframe containing the number of records for each drug regimen, and get unique values\n",
    "x_axis = np.arange(0, len(Regimen_df))\n",
    "x_labels = joined_data['Drug Regimen'].unique()\n",
    "\n",
    "#create tick locations for the bar chart\n",
    "tick_locations = []\n",
    "for x in x_axis:\n",
    "    tick_locations.append(x)\n",
    "\n",
    "#assign title and labels\n",
    "plt.title(\"Number of data points for each treatment\")\n",
    "plt.xlabel(\"Drug Regimen\")\n",
    "plt.ylabel(\"No. of data points\")\n",
    "\n",
    "#create the bar chart\n",
    "plt.bar(x_axis, joined_data['Drug Regimen'].value_counts() , facecolor=\"blue\", alpha=0.75, align=\"center\")\n",
    "plt.xticks(tick_locations, x_labels, rotation = 90)\n",
    "plt.show()\n"
   ]
  },
  {
   "cell_type": "markdown",
   "metadata": {},
   "source": [
    "## Pie plots"
   ]
  },
  {
   "cell_type": "code",
   "execution_count": 135,
   "metadata": {},
   "outputs": [
    {
     "data": {
      "text/plain": [
       "<matplotlib.axes._subplots.AxesSubplot at 0x21229f26988>"
      ]
     },
     "execution_count": 135,
     "metadata": {},
     "output_type": "execute_result"
    },
    {
     "data": {
      "image/png": "[encoded data removed]",
      "text/plain": [
       "<Figure size 432x288 with 1 Axes>"
      ]
     },
     "metadata": {},
     "output_type": "display_data"
    }
   ],
   "source": [
    "# Generate a pie plot showing the distribution of female versus male mice using pandas\n",
    "\n",
    "# group dataset by Sex\n",
    "data_group_gender = joined_data.groupby(['Sex'])\n",
    "\n",
    "# Count data points per Sex\n",
    "data_gender_df = joined_data['Sex'].value_counts()\n",
    "\n",
    "#Create the pie chart using pandans dataframe\n",
    "data_gender_df.plot(kind=\"pie\", title = \"Distribution of female versus male mice\",autopct=\"%1.1f%%\")\n"
   ]
  },
  {
   "cell_type": "code",
   "execution_count": 136,
   "metadata": {},
   "outputs": [
    {
     "data": {
      "image/png": "[encoded data removed]",
      "text/plain": [
       "<Figure size 432x288 with 1 Axes>"
      ]
     },
     "metadata": {},
     "output_type": "display_data"
    }
   ],
   "source": [
    "# Generate a pie plot showing the distribution of female versus male mice using pyplot\n",
    "\n",
    "#create piechart colors and title\n",
    "colors = [\"blue\", \"orange\"]\n",
    "plt.title(\"Distribution of female versus male mice\")\n",
    "\n",
    "#Create the pie chart using pyplot\n",
    "plt.pie(data_gender_df, colors=colors, autopct=\"%1.1f%%\")\n",
    "plt.axis(\"equal\")\n",
    "plt.show()\n"
   ]
  },
  {
   "cell_type": "markdown",
   "metadata": {},
   "source": [
    "## Quartiles, outliers and boxplots"
   ]
  },
  {
   "cell_type": "code",
   "execution_count": 137,
   "metadata": {},
   "outputs": [
    {
     "name": "stdout",
     "output_type": "stream",
     "text": [
      "For Capomulin, values below 20.70456164999999 could be outliers.\n",
      "For Capomulin, Values above 51.83201549 could be outliers.\n",
      "For Ramicane, values below 19.690480101250003 could be outliers.\n",
      "For Ramicane, Values above 49.79900043124999 could be outliers.\n",
      "For Infubinol, values below 55.35777559500001 could be outliers.\n",
      "For Infubinol, Values above 75.08224443499999 could be outliers.\n",
      "For Ceftamin, values below 52.29350701999999 could be outliers.\n",
      "For Ceftamin, Values above 76.66786758 could be outliers.\n",
      "----------------------------------------------------------\n"
     ]
    },
    {
     "data": {
      "image/png": "[encoded data removed]",
      "text/plain": [
       "<Figure size 720x720 with 4 Axes>"
      ]
     },
     "metadata": {
      "needs_background": "light"
     },
     "output_type": "display_data"
    }
   ],
   "source": [
    "# Calculate the final tumor volume of each mouse across four of the most promising treatment regimens. \n",
    "# Calculate the IQR and quantitatively determine if there are any potential outliers. \n",
    "\n",
    "promising_drugs = ['Capomulin', 'Ramicane', 'Infubinol', 'Ceftamin']\n",
    "\n",
    "fig, axs = plt.subplots(2, 2)\n",
    "fig.suptitle('final tumor volume of each mouse across four of the most promising treatment regimens')\n",
    "i=1\n",
    "\n",
    "for drug in promising_drugs:\n",
    "   \n",
    "    df = joined_data.loc[joined_data['Drug Regimen'].isin([str(drug)])]\n",
    "    #Max of timepoint in the dataset stores the most recent tumor volume measurment\n",
    "    maxvalue = df['Timepoint'].max()\n",
    "    final_df = df.loc[df['Timepoint'] == maxvalue]\n",
    "\n",
    "    # calculate quantiles, lower and upper bounds and IQR\n",
    "    quantiles = final_df['Tumor Volume (mm3)'].quantile([.25,.5,.75])\n",
    "    lowerq = quantiles[0.25]\n",
    "    upperq = quantiles[0.75]\n",
    "    iqr = upperq-lowerq\n",
    "    lower_bound = lowerq - (1.5*iqr)\n",
    "    upper_bound = upperq + (1.5*iqr)\n",
    "    print(f\"For {drug}, values below {lower_bound} could be outliers.\")\n",
    "    print(f\"For {drug}, Values above {upper_bound} could be outliers.\")\n",
    "    if (i==1):\n",
    "        axs[1][0].set_title(drug)\n",
    "        axs[1][0].boxplot(final_df['Tumor Volume (mm3)'])\n",
    "    elif(i==2):\n",
    "        axs[1][1].set_title(drug)\n",
    "        axs[1][1].boxplot(final_df['Tumor Volume (mm3)'])\n",
    "    elif(i==3):\n",
    "        axs[0][0].set_title(drug)\n",
    "        axs[0][0].boxplot(final_df['Tumor Volume (mm3)'])    \n",
    "    elif(i==4):\n",
    "        axs[0][1].set_title(drug)\n",
    "        axs[0][1].boxplot(final_df['Tumor Volume (mm3)']) \n",
    "        \n",
    "    i+=1\n",
    "    \n",
    "print(\"----------------------------------------------------------\")\n",
    "plt.gcf().set_size_inches(10, 10)\n",
    "plt.show()"
   ]
  },
  {
   "cell_type": "code",
   "execution_count": 138,
   "metadata": {},
   "outputs": [
    {
     "data": {
      "image/png": "[encoded data removed]",
      "text/plain": [
       "<Figure size 432x288 with 1 Axes>"
      ]
     },
     "metadata": {
      "needs_background": "light"
     },
     "output_type": "display_data"
    }
   ],
   "source": [
    "# Generate a box plot of the final tumor volume of each mouse across four regimens of interest\n",
    "# drug regimens of interest are: Capomulin, Ramicane, Infubinol, Ceftamin\n",
    "\n",
    "fig1, ax1 = plt.subplots()\n",
    "ax1.set_title('Final Tumor Volume')\n",
    "ax1.set_ylabel('Tumor Volume (mm3)')\n",
    "\n",
    "# max_df, from above, contains the final tumor volume of each mouse across four of the most promising treatment regimens\n",
    "ax1.boxplot(max_df['Tumor Volume (mm3)'])\n",
    "plt.show()\n"
   ]
  },
  {
   "cell_type": "markdown",
   "metadata": {},
   "source": [
    "## Line and scatter plots"
   ]
  },
  {
   "cell_type": "code",
   "execution_count": 139,
   "metadata": {},
   "outputs": [
    {
     "data": {
      "image/png": "[encoded data removed]",
      "text/plain": [
       "<Figure size 432x288 with 1 Axes>"
      ]
     },
     "metadata": {
      "needs_background": "light"
     },
     "output_type": "display_data"
    }
   ],
   "source": [
    "# Generate a line plot of time point versus tumor volume for a mouse treated with Capomulin\n",
    "# Assumption: the question is asking for the data for one mouse only, so I picked a random mouse, with ID = s185\n",
    "Capomulin_df = top_drugs_volume_df.loc[(top_drugs_volume_df['Drug Regimen'] == 'Capomulin') & (top_drugs_volume_df['Mouse ID'] == 's185')]\n",
    "Capomulin_df = Capomulin_df.sort_values(by='Timepoint')\n",
    "\n",
    "plt.title(\"time point versus tumor volume for mouse ID s185 treated with Capomulin\")\n",
    "plt.xlabel(\"Time\")\n",
    "plt.ylabel(\"Tumor Volume\")\n",
    "\n",
    "plt.plot(Capomulin_df['Timepoint'], Capomulin_df['Tumor Volume (mm3)'])\n",
    "plt.show()\n"
   ]
  },
  {
   "cell_type": "code",
   "execution_count": 140,
   "metadata": {},
   "outputs": [
    {
     "data": {
      "image/png": "[encoded data removed]",
      "text/plain": [
       "<Figure size 432x288 with 1 Axes>"
      ]
     },
     "metadata": {
      "needs_background": "light"
     },
     "output_type": "display_data"
    }
   ],
   "source": [
    "# Generate a scatter plot of mouse weight versus average tumor volume for the Capomulin regimen\n",
    "\n",
    "Capomulin_df = top_drugs_volume_df.loc[(top_drugs_volume_df['Drug Regimen'] == 'Capomulin')]\n",
    "Capomulin_df = Capomulin_df.groupby(['Weight (g)'])\n",
    "Capomulin_mean_df = Capomulin_df['Tumor Volume (mm3)'].mean()\n",
    "weight_df = Capomulin_df['Weight (g)'].mean()\n",
    "\n",
    "#create a new Dataframe to combine mouse weights and the tumor volume averages\n",
    "results_df = pd.concat([weight_df, Capomulin_mean_df], axis=1)\n",
    "\n",
    "# create the scatter plot\n",
    "plt.scatter(results_df['Weight (g)'], results_df['Tumor Volume (mm3)'])\n",
    "plt.xlabel(\"Weight (g)\")\n",
    "plt.ylabel(\"Tumor Volume (mm3)\")\n",
    "plt.show()\n",
    "\n"
   ]
  },
  {
   "cell_type": "code",
   "execution_count": 141,
   "metadata": {},
   "outputs": [
    {
     "name": "stdout",
     "output_type": "stream",
     "text": [
      "The correlation between mouse weight and average tumor volume for the Capomulin regimen is 0.95\n"
     ]
    }
   ],
   "source": [
    "# Calculate the correlation coefficient and linear regression model for mouse weight and average tumor volume for the Capomulin regimen\n",
    "\n",
    "Capomulin_mean_df = Capomulin_df['Tumor Volume (mm3)'].mean()\n",
    "weight_df = Capomulin_df['Weight (g)'].mean()\n",
    "\n",
    "#calculate the correlation coefficient for mouse weight and average tumor volume for the Capomulin drug\n",
    "# shows a high correlation, which means heavier mouse have larger tumors on average\n",
    "correlation = st.pearsonr(weight_df,Capomulin_mean_df)\n",
    "print(f\"The correlation between mouse weight and average tumor volume for the Capomulin regimen is {round(correlation[0],2)}\")\n"
   ]
  },
  {
   "cell_type": "code",
   "execution_count": 142,
   "metadata": {},
   "outputs": [
    {
     "data": {
      "image/png": "[encoded data removed]",
      "text/plain": [
       "<Figure size 432x288 with 1 Axes>"
      ]
     },
     "metadata": {
      "needs_background": "light"
     },
     "output_type": "display_data"
    }
   ],
   "source": [
    "#set up x and y values\n",
    "x_values = results_df['Weight (g)']\n",
    "y_values = results_df['Tumor Volume (mm3)']\n",
    "\n",
    "#use linear regression module to calculate slope and y-intercept\n",
    "(slope, intercept, rvalue, pvalue, stderr) = linregress(x_values, y_values)\n",
    "regress_values = x_values * slope + intercept\n",
    "\n",
    "#create equation for the chart\n",
    "line_eq = \"y = \" + str(round(slope,2)) + \"x + \" + str(round(intercept,2))\n",
    "\n",
    "#create scatter chart, annotate and assign labels\n",
    "plt.scatter(x_values,y_values)\n",
    "plt.plot(x_values,regress_values,\"r-\")\n",
    "plt.annotate(line_eq,(20,38),fontsize=15,color=\"green\")\n",
    "plt.xlabel(\"Weight (g)\")\n",
    "plt.ylabel(\"Tumor Volume (mm3)\")\n",
    "plt.show()"
   ]
  }
 ],
 "metadata": {
  "anaconda-cloud": {},
  "kernelspec": {
   "display_name": "Python 3",
   "language": "python",
   "name": "python3"
  },
  "language_info": {
   "codemirror_mode": {
    "name": "ipython",
    "version": 3
   },
   "file_extension": ".py",
   "mimetype": "text/x-python",
   "name": "python",
   "nbconvert_exporter": "python",
   "pygments_lexer": "ipython3",
   "version": "3.7.4"
  }
 },
 "nbformat": 4,
 "nbformat_minor": 4
}
